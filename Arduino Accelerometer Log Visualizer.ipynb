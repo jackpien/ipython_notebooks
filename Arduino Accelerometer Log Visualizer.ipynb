{
 "cells": [
  {
   "cell_type": "markdown",
   "metadata": {},
   "source": [
    "# Accelerometer Log Visualizer\n",
    "I programmed an Arduino to collect accelerometer data and dump into an SD card as a CSV.  The file format is\n",
    "\n",
    "(sec since on), (x_last_reading), (y_last_reading), (z_last_reading), (x_reading), (y_reading), (z_reading)\n",
    "\n",
    "The data only gets logged if last reading is past a certain threshold from first reading"
   ]
  },
  {
   "cell_type": "markdown",
   "metadata": {},
   "source": [
    "## Generate some random data to test log visualizer"
   ]
  },
  {
   "cell_type": "code",
   "execution_count": 24,
   "metadata": {
    "collapsed": true
   },
   "outputs": [],
   "source": [
    "if False:\n",
    "    import csv\n",
    "    import random\n",
    "    tsec = 0;\n",
    "    with open('tmp.csv', 'w') as csvfile:\n",
    "        for x in range(0,100):\n",
    "            tsec = random.randint(tsec, tsec+3600)\n",
    "            if tsec >= 60*60*8:\n",
    "                break;\n",
    "            spamwriter = csv.writer(csvfile)\n",
    "            spamwriter.writerow([tsec,\n",
    "                                 random.randint(50,110),\n",
    "                                 random.randint(50,110),\n",
    "                                 random.randint(50,110),\n",
    "                                 random.randint(50,110),\n",
    "                                 random.randint(50,110),\n",
    "                                 random.randint(50,110)])"
   ]
  },
  {
   "cell_type": "markdown",
   "metadata": {},
   "source": [
    "## Read the log data\n",
    "Read in CSV and store as magnitude of tuple-2 of (hour in float, magnitude of change)"
   ]
  },
  {
   "cell_type": "code",
   "execution_count": 4,
   "metadata": {
    "collapsed": false
   },
   "outputs": [],
   "source": [
    "import csv\n",
    "import numpy as np\n",
    "\n",
    "fn = \"/Users/jpien/Desktop/datalog_2015_05_20__22_00__23_30.csv\"\n",
    "fn = \"/Users/jpien/Desktop/datalog_2015_05_21__22_00.csv\"\n",
    "data_log = []\n",
    "start_hr = 21.25 # 9:15pm\n",
    "ignore_first_hours = 1.5\n",
    "with open(fn, 'r') as csvfile:\n",
    "    spamreader = csv.reader(csvfile)\n",
    "    for row in spamreader:\n",
    "        sec = long(row[0])\n",
    "        last = np.array(map(int, row[1:4]))\n",
    "        cur = np.array(map(int, row[4:]))\n",
    "        hr = float(sec)/3600.0 \n",
    "        diff_vec = last-cur\n",
    "        mag = np.linalg.norm(diff_vec)        \n",
    "        data_log.append((hr,mag))\n",
    "    data_log = np.array(data_log)\n",
    "    "
   ]
  },
  {
   "cell_type": "markdown",
   "metadata": {},
   "source": [
    "## Combine the magnitudes of readings within the same time quanta"
   ]
  },
  {
   "cell_type": "code",
   "execution_count": 5,
   "metadata": {
    "collapsed": false
   },
   "outputs": [],
   "source": [
    "#print data_log\n",
    "accum_row = [data_log[0,0], data_log[0,1]]\n",
    "new_data_log = [accum_row] # We want first sample\n",
    "for row in data_log:\n",
    "    cur_hr = row[0]\n",
    "    movement = row[1]\n",
    "    \n",
    "    # Time from last time is less than 1.5 seconds away\n",
    "    if np.abs(cur_hr - accum_row[0]) < 0.003:\n",
    "        # Sum the movement\n",
    "        accum_row[1] += movement\n",
    "    else:\n",
    "        #Ignore the first 15 minutes\n",
    "        if accum_row[0] > ignore_first_hours:\n",
    "            # New entry\n",
    "            new_data_log.append(accum_row)\n",
    "        # Start new entry    \n",
    "        accum_row = [cur_hr, movement]\n",
    "        \n",
    "new_data_log.append(accum_row)\n",
    "        \n",
    "data_log = np.array(new_data_log)\n",
    "#print data_log"
   ]
  },
  {
   "cell_type": "markdown",
   "metadata": {},
   "source": [
    "## Plot the data plots to see when we made movements"
   ]
  },
  {
   "cell_type": "code",
   "execution_count": 6,
   "metadata": {
    "collapsed": false
   },
   "outputs": [
    {
     "data": {
      "image/png": "[encoded data removed]",
      "text/plain": [
       "<matplotlib.figure.Figure at 0x104a30110>"
      ]
     },
     "metadata": {},
     "output_type": "display_data"
    }
   ],
   "source": [
    "%matplotlib inline\n",
    "\n",
    "import matplotlib.pyplot as plt\n",
    "#plt.plot(data_log[:,0],data_log[:,1])\n",
    "#plt.show()\n",
    "max_hr = np.max(data_log[:,0]) + 1\n",
    "fig = plt.figure()\n",
    "fig.set_size_inches(14, 8)\n",
    "plt.xticks(np.arange(0,max_hr), np.arange(start_hr,start_hr+max_hr)%24)\n",
    "plt.bar(data_log[:,0],data_log[:,1], width=0.01)\n",
    "plt.xlabel(\"Hour\", fontsize = 20)\n",
    "plt.ylabel(\"Magnitude of movement\", fontsize = 20)\n",
    "plt.show()\n"
   ]
  },
  {
   "cell_type": "code",
   "execution_count": null,
   "metadata": {
    "collapsed": true
   },
   "outputs": [],
   "source": []
  }
 ],
 "metadata": {
  "kernelspec": {
   "display_name": "Python 2",
   "language": "python",
   "name": "python2"
  },
  "language_info": {
   "codemirror_mode": {
    "name": "ipython",
    "version": 2
   },
   "file_extension": ".py",
   "mimetype": "text/x-python",
   "name": "python",
   "nbconvert_exporter": "python",
   "pygments_lexer": "ipython2",
   "version": "2.7.5"
  }
 },
 "nbformat": 4,
 "nbformat_minor": 0
}
