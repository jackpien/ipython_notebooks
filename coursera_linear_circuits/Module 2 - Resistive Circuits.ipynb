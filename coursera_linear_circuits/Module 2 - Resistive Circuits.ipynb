{
 "cells": [
  {
   "cell_type": "markdown",
   "metadata": {},
   "source": [
    "#2.8 - Superposition\n",
    "\n",
    "<https://class.coursera.org/circuits-004/lecture/35>\n",
    "    \n",
    "Circuit needs to be **linear** in order for superposition to hold.  In summary superposition is stated as such:\n",
    "\n",
    "$f(x_{1} + x_{2}) = f(x_{1}) + f(x_{2})$ where \n",
    "\n",
    "$f \\rightarrow$ a voltage and/or current output of the circuit, \n",
    "\n",
    "$x_{n} \\rightarrow$ an input current and/or voltage source \n",
    "\n",
    "Which means that if we have a circuit with a bunch of independent voltage and/or current sources (ie $x_{N}$'s ), then we can:\n",
    "\n",
    "1. Zero out all of those independent voltage and current sources\n",
    "  1. For voltage - replace with short \n",
    "  1. For current - replace with open circuit\n",
    "1. Add back each source to analyze the circuit and its output - ie $f(x_{n})$ \n",
    "1. Sum up all the output $f(x_{n})$'s to get the output\n"
   ]
  },
  {
   "cell_type": "code",
   "execution_count": 4,
   "metadata": {
    "collapsed": true
   },
   "outputs": [],
   "source": [
    "import numpy as np\n",
    "import matplotlib.pyplot as plt"
   ]
  },
  {
   "cell_type": "markdown",
   "metadata": {},
   "source": [
    "#2.9, 2.10, 2.11 - Systematic Solution Methods \n",
    "\n",
    "There are 3 main systematic solution methods:\n",
    "\n",
    "1. Mesh Analysis\n",
    "1. Node Analysis\n",
    "1. Thevenin and Norton equivalent circuits\n",
    "\n",
    "All use the main laws of circuits:\n",
    "\n",
    "1. **Ohms Law** - $V = I*R$\n",
    "1. **KVL** Kirchhoff's Voltage Law - voltages in a close loop zum to zero\n",
    "1. **KCL** Kirchhoff's Current Law - currents into/out of a node equal zero\n",
    "\n",
    "## 2. 9 Mesh Analysis\n",
    "\n",
    "1. Mesh Analysis\n",
    "  1. For each non-inclusive loop in the circuit...\n",
    "  1. Use KVL - define the currents for each non-inclusive loop (ie mesh) to come up with a system of equations w/ unknowns.\n",
    "    1. Loop will create an equation that equals zero since KVL states that all loops in a mesh sum to zero volts.\n",
    "  1. Solve the system of equations to solve for current values.\n",
    "  \n",
    "<img src=\"./images/linear_circuits_2_9_mesh_analysis.jpg\" width=480>\n",
    "\n",
    "### Example\n",
    "\n",
    "<img src=\"./images/linear_circuits_2_9_mesh_analysis_02.jpg\" width=640>\n",
    "\n",
    "\n",
    "\n",
    "  "
   ]
  },
  {
   "cell_type": "code",
   "execution_count": 5,
   "metadata": {
    "collapsed": false
   },
   "outputs": [
    {
     "name": "stdout",
     "output_type": "stream",
     "text": [
      "[  1.00000000e+00  -1.00929366e-16]\n"
     ]
    }
   ],
   "source": [
    "def mesh_solve():\n",
    "    # 3I_1 - I_2 = 3\n",
    "    # -5I_1 + 9I_2 = -5\n",
    "    A = np.array([[3, -1],\n",
    "                  [-5, 9]])\n",
    "    b = np.array([3, -5])   \n",
    "    x = np.linalg.solve(A, b)\n",
    "    return x\n",
    "     \n",
    "x = mesh_solve()\n",
    "print x"
   ]
  },
  {
   "cell_type": "markdown",
   "metadata": {},
   "source": [
    "## 2.10 Node Analysis\n",
    "\n",
    "1. Identify all nodes in circuit\n",
    "1. Pick a node to attach ground to\n",
    "  1. This will be the reference for all other nodes to be evaluated\n",
    "  1. Pick a node that has some voltage sources next to it.\n",
    "1. Do KCL for all nodes\n",
    "1. Solve equations\n",
    "\n",
    "### KCL -= Kirchhoff's Current Law\n",
    "\n",
    "Recap: \n",
    "\n",
    "$$KCL \\rightarrow \\forall Nodes = n:(0 \\ldots N-1), \\\\\n",
    "\\sum_{i=0}^{k}Current_{i}\\ LeavingNode_{n} = 0 $$\n",
    "\n",
    "#### How to orient current direction\n",
    "\n",
    "Current $\\rightarrow \\frac{VoltageSource - VoltageDest}{Resistance}$\n",
    "\n",
    "\n",
    "<img src=\"./images/linear_circuits_2_10_node_analysis_01.jpg\" width=480>\n",
    "\n",
    "#### Example\n",
    "\n",
    "<img src=\"./images/linear_circuits_2_10_node_analysis_01.jpg\" width=480>"
   ]
  },
  {
   "cell_type": "markdown",
   "metadata": {
    "collapsed": true
   },
   "source": [
    "## 2.11 Thevenin and Norton Equivalent Method\n",
    "\n",
    "In summary:\n",
    "\n",
    "1. Replace fixed complicated parts of the circuits with simple circuits to make it easier to analyze\n",
    "\n",
    "### Thevenin\n",
    "\n",
    "Replace a complex circuit black box with a simple Voltage and Resistor in series.  \n",
    "\n",
    "<img src=\"./images/linear_circuits_2_11_thevenin_01.jpg\" width=480>\n",
    "\n",
    "To find $V_{Thevenin}$, you open circuit the 2 points $(a,b)$ of the circuit you want to replace and measure the voltage drop between the two.\n",
    "\n",
    "To find $R_{Thevenin}$, there are two methods:\n",
    "1. You first find $I_{short} \\rightarrow$ by shorting $(a,b)$ and measuring.  Then $R_{Thevenin} = \\frac{V_{Thevenin}}{I_{short}}$.\n",
    "1. Assuming there are no dependent sources in the circuit you want to replace...\n",
    "  1. Zero out all independent sources - replace voltage srcs with shorts and current srcs with open circuits\n",
    "  1. Then figure out resistance of circuit\n",
    "  \n",
    "<img src=\"./images/linear_circuits_2_11_thevenin_02.jpg\" width=480>\n",
    "\n",
    "### Norton Equalivent vs Thevenin Equivalent\n",
    "\n",
    "<img src=\"./images/linear_circuits_2_11_thevenin_03.jpg\" width=480>\n",
    "\n",
    "### Source transformation\n",
    "\n",
    "Replace parts of a circuit with their Norton and Thevenin equivalents to get simpler circuit to make it easier to analyze\n",
    "\n",
    "IE - what is the voltage drop $v_0$ between the load resistor $R_0$?\n",
    "\n",
    "<img src=\"./images/linear_circuits_2_11_thevenin_04.jpg\" width=640>\n",
    "\n"
   ]
  },
  {
   "cell_type": "markdown",
   "metadata": {},
   "source": [
    "# 2.12 Maximum Power Transfer"
   ]
  }
 ],
 "metadata": {
  "kernelspec": {
   "display_name": "Python 2",
   "language": "python",
   "name": "python2"
  },
  "language_info": {
   "codemirror_mode": {
    "name": "ipython",
    "version": 2
   },
   "file_extension": ".py",
   "mimetype": "text/x-python",
   "name": "python",
   "nbconvert_exporter": "python",
   "pygments_lexer": "ipython2",
   "version": "2.7.3"
  }
 },
 "nbformat": 4,
 "nbformat_minor": 0
}
