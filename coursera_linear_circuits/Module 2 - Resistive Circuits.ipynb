{
 "cells": [
  {
   "cell_type": "markdown",
   "metadata": {},
   "source": [
    "#2.8 - Superposition\n",
    "\n",
    "<https://class.coursera.org/circuits-004/lecture/35>\n",
    "    \n",
    "Circuit needs to be **linear** in order for superposition to hold.  In summary superposition is stated as such:\n",
    "\n",
    "$f(x_{1} + x_{2}) = f(x_{1}) + f(x_{2})$ where \n",
    "\n",
    "$f \\rightarrow$ a voltage and/or current output of the circuit, \n",
    "\n",
    "$x_{n} \\rightarrow$ an input current and/or voltage source \n",
    "\n",
    "Which means that if we have a circuit with a bunch of independent voltage and/or current sources (ie $x_{N}$'s ), then we can:\n",
    "\n",
    "1. Zero out all of those independent voltage and current sources\n",
    "  1. For voltage - replace with short \n",
    "  1. For current - replace with open circuit\n",
    "1. Add back each source to analyze the circuit and its output - ie $f(x_{n})$ \n",
    "1. Sum up all the output $f(x_{n})$'s to get the output\n"
   ]
  },
  {
   "cell_type": "markdown",
   "metadata": {},
   "source": [
    "#2.9, 2.10, 2.11 - Systematic Solution Methods \n",
    "\n",
    "There are 3 main systematic solution methods:\n",
    "\n",
    "1. Mesh Analysis\n",
    "1. Node Analysis\n",
    "1. Thevenin and Norton equivalent circuits\n",
    "\n",
    "All use the main laws of circuits:\n",
    "\n",
    "1. **Ohms Law** - $V = I*R$\n",
    "1. **KVL** Kirchhoff's Voltage Law - voltages in a close loop zum to zero\n",
    "1. **KCL** Kirchhoff's Current Law - currents into/out of a node equal zero\n",
    "\n",
    "## Mesh Analysis\n",
    "\n",
    "1. Mesh Analysis\n",
    "  1. For each non-inclusive loop in the circuit...\n",
    "  1. Use KVL - define the currents for each non-inclusive loop (ie mesh) to come up with a system of equations w/ unknowns.\n",
    "    1. Loop will create an equation that equals zero since KVL states that all loops in a mesh sum to zero volts.\n",
    "  1. Solve the system of equations to solve for current values.\n",
    "  \n",
    "<img src=\"./images/linear_circuits_2_9_mesh_analysis.jpg\" width=480>\n",
    "\n",
    "### Example\n",
    "\n",
    "<img src=\"./images/linear_circuits_2_9_mesh_analysis_02.jpg\" width=480>\n",
    "\n",
    "\n",
    "\n",
    "  "
   ]
  },
  {
   "cell_type": "markdown",
   "metadata": {},
   "source": [
    "## Node Analysis\n",
    "\n",
    "1. Node Analysis\n",
    "  1. asdf"
   ]
  }
 ],
 "metadata": {
  "kernelspec": {
   "display_name": "Python 2",
   "language": "python",
   "name": "python2"
  },
  "language_info": {
   "codemirror_mode": {
    "name": "ipython",
    "version": 2
   },
   "file_extension": ".py",
   "mimetype": "text/x-python",
   "name": "python",
   "nbconvert_exporter": "python",
   "pygments_lexer": "ipython2",
   "version": "2.7.3"
  }
 },
 "nbformat": 4,
 "nbformat_minor": 0
}
