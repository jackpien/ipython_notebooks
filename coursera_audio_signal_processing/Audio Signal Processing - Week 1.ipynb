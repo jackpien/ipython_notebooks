{
 "cells": [
  {
   "cell_type": "markdown",
   "metadata": {},
   "source": [
    "# Coursera - Audio Signal Processing - Week 1\n",
    "<https://class.coursera.org/audio-001/wiki/week1>"
   ]
  },
  {
   "cell_type": "code",
   "execution_count": 2,
   "metadata": {
    "collapsed": false
   },
   "outputs": [
    {
     "name": "stderr",
     "output_type": "stream",
     "text": [
      ":0: FutureWarning: IPython widgets are experimental and may change in the future.\n"
     ]
    }
   ],
   "source": [
    "#from __future__ import print_function\n",
    "from IPython.html.widgets import interact, interactive, fixed\n",
    "from IPython.html import widgets\n",
    "\n",
    "import numpy as np\n",
    "\n",
    "%matplotlib inline\n",
    "import matplotlib.pyplot as plt"
   ]
  },
  {
   "cell_type": "markdown",
   "metadata": {},
   "source": [
    "## Lecture 4 - 1T4 - Basic Math\n",
    "\n",
    "This is a function for sinusoids:\n",
    "\n",
    "$$y = A * cos(2*\\pi*f*n + \\phi)$$"
   ]
  },
  {
   "cell_type": "code",
   "execution_count": 8,
   "metadata": {
    "collapsed": false
   },
   "outputs": [
    {
     "data": {
      "image/png": "[encoded data removed]",
      "text/plain": [
       "<matplotlib.figure.Figure at 0x10f19b0d0>"
      ]
     },
     "metadata": {},
     "output_type": "display_data"
    }
   ],
   "source": [
    "def do_cos(A=1, n_start=-2, n_stop=2, fs=44100, f=1, phi=0):\n",
    "    # Given sampling freq per second, time period in seconds of each sample\n",
    "    T = 1.0/fs \n",
    "    \n",
    "    # Length of range\n",
    "    length_n = n_stop - n_start\n",
    "    \n",
    "    # Each second has fs samples, each sample is T seconds long,\n",
    "    # so split the range up in to samples spaced T seconds in length\n",
    "    # and we have length_n of those samples.\n",
    "    n = np.arange(float(n_start), n_stop, T*length_n)  \n",
    "    \n",
    "    # We can also divide the range up into the number of samples\n",
    "    # equivalent to the sample freq fs. \n",
    "    # So above code is also equivalent to:\n",
    "    n = np.linspace(float(n_start), n_stop, fs*length_n)\n",
    "    \n",
    "    # A*cos(2*pi*freq*x + phi)\n",
    "    # A*cos(wx + phi)\n",
    "    x = (2 * np.pi * f * n)\n",
    "    y = A * np.cos(x + phi)\n",
    "    plt.plot(n, y)\n",
    "    plt.title('Cosine Wave')\n",
    "    \n",
    "interact(do_cos, A=(0,5,0.2), n_start=(-10,10,1), n_stop=(-9,11,1), \\\n",
    "        f=(0,10,0.5), fs = fixed(44100), phi=(-np.pi, np.pi, 0.1)) # sampling frequency"
   ]
  },
  {
   "cell_type": "code",
   "execution_count": null,
   "metadata": {
    "collapsed": true
   },
   "outputs": [],
   "source": []
  }
 ],
 "metadata": {
  "kernelspec": {
   "display_name": "Python 2",
   "language": "python",
   "name": "python2"
  },
  "language_info": {
   "codemirror_mode": {
    "name": "ipython",
    "version": 2
   },
   "file_extension": ".py",
   "mimetype": "text/x-python",
   "name": "python",
   "nbconvert_exporter": "python",
   "pygments_lexer": "ipython2",
   "version": "2.7.5"
  }
 },
 "nbformat": 4,
 "nbformat_minor": 0
}
