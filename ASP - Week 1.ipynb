{
 "cells": [
  {
   "cell_type": "markdown",
   "metadata": {},
   "source": [
    "# Coursera - Audio Signal Processing - Week 1\n",
    "<https://class.coursera.org/audio-001/wiki/week1>"
   ]
  },
  {
   "cell_type": "code",
   "execution_count": 29,
   "metadata": {
    "collapsed": false
   },
   "outputs": [],
   "source": [
    "#from __future__ import print_function\n",
    "from IPython.html.widgets import interact, interactive, fixed\n",
    "from IPython.html import widgets\n",
    "\n",
    "import numpy as np\n",
    "\n",
    "%matplotlib inline\n",
    "import matplotlib.pyplot as plt"
   ]
  },
  {
   "cell_type": "markdown",
   "metadata": {},
   "source": [
    "## Lecture 4 - 1T4 - Basic Math"
   ]
  },
  {
   "cell_type": "code",
   "execution_count": 39,
   "metadata": {
    "collapsed": false
   },
   "outputs": [
    {
     "name": "stdout",
     "output_type": "stream",
     "text": [
      "[  0.00000000e+00   1.42475857e-04   2.84951715e-04 ...,   3.14154991e+01\n",
      "   3.14156416e+01   3.14157841e+01]\n",
      "2.26757369615e-05\n"
     ]
    },
    {
     "data": {
      "text/plain": [
       "<function __main__.do_cos>"
      ]
     },
     "execution_count": 39,
     "metadata": {},
     "output_type": "execute_result"
    },
    {
     "data": {
      "image/png": "[encoded data removed]",
      "text/plain": [
       "<matplotlib.figure.Figure at 0x3fa97d0>"
      ]
     },
     "metadata": {},
     "output_type": "display_data"
    }
   ],
   "source": [
    "def do_cos(A=1, n_start=0, n_stop=5, fs=44100, f=1, phi=0):\n",
    "    T = 1.0/fs # Time period of one sample\n",
    "    n = np.arange(float(n_start), n_stop, T) * fs # Each second has fs samples\n",
    "    x = (2 * np.pi * f * n * T)\n",
    "    print(x)\n",
    "    print (T)\n",
    "    y = A * np.cos(x + phi)\n",
    "    plt.plot(n, y)\n",
    "    plt.title('Cosine Wave')\n",
    "    \n",
    "interact(do_cos, A=(-2,2,0.2), n_start=(-10,10,1), n_stop=(-9,11,1), \\\n",
    "        f=(0,10,0.5), fs = 44100, phi=(-np.pi, np.pi, 0.1)) # sampling frequency"
   ]
  },
  {
   "cell_type": "code",
   "execution_count": null,
   "metadata": {
    "collapsed": true
   },
   "outputs": [],
   "source": []
  }
 ],
 "metadata": {
  "kernelspec": {
   "display_name": "Python 2",
   "language": "python",
   "name": "python2"
  },
  "language_info": {
   "codemirror_mode": {
    "name": "ipython",
    "version": 2
   },
   "file_extension": ".py",
   "mimetype": "text/x-python",
   "name": "python",
   "nbconvert_exporter": "python",
   "pygments_lexer": "ipython2",
   "version": "2.7.3"
  }
 },
 "nbformat": 4,
 "nbformat_minor": 0
}
